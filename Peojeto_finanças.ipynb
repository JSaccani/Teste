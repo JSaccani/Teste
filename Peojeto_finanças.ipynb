{
 "cells": [
  {
   "cell_type": "code",
   "execution_count": 1,
   "metadata": {},
   "outputs": [],
   "source": [
    "#AUTOMAÇÃO DE PROCESSO COM PYTHON\n",
    "#Problema a ser resolvido: step by step\n",
    "    #1- buscar automaticamente os dados das ações\n",
    "    #2- gerar as análises de forma automática\n",
    "    #3- enviar um email para nosso gestor\n",
    "#STEP1 - buscar automaticamente os dados das ações\n",
    "import pyautogui\n",
    "import pyperclip\n",
    "import yfinance\n",
    "codigo=input(\"digite o código da ação desejada\")\n",
    "dados=yfinance.Ticker(codigo).history(\"6mo\")\n",
    "fechamento=dados.Close"
   ]
  },
  {
   "cell_type": "code",
   "execution_count": null,
   "metadata": {},
   "outputs": [],
   "source": [
    "#STEP2 - gerar as análises de forma automática\n",
    "    #Anaise os ultimos 6 meses\n",
    "    #Cotação mínima\n",
    "    #Cotação atual\n",
    "\n",
    "maxima=fechamento.max()\n",
    "minima=fechamento.min()\n",
    "atual=fechamento[-1]"
   ]
  },
  {
   "cell_type": "code",
   "execution_count": null,
   "metadata": {},
   "outputs": [],
   "source": [
    "#STEP3 - enviar um email para nosso gestor \n",
    "    #Abrir uma nova aba no navegador (ctrl+t)\n",
    "    #Digitar o endereço do email e dar um enter\n",
    "    #Clicar no botão de escrever\n",
    "    #Colocar o email do destinatário (tab)\n",
    "    #Colocar o assunto (tab)\n",
    "    #Clicar no botão enviar\n",
    "\n",
    "pyautogui.PAUSE = 2"
   ]
  },
  {
   "cell_type": "code",
   "execution_count": null,
   "metadata": {},
   "outputs": [],
   "source": [
    "#Abrir uma nova aba no navegador\n",
    "pyautogui.hotkey(\"ctrl\", \"t\")"
   ]
  },
  {
   "cell_type": "code",
   "execution_count": null,
   "metadata": {},
   "outputs": [],
   "source": [
    "#Digitar o endereço do email e dar um enter\n",
    "pyperclip.copy(\"www.gmail.com\")\n",
    "pyautogui.hotkey(\"ctrl\", \"v\")\n",
    "pyautogui.hotkey(\"enter\")"
   ]
  },
  {
   "cell_type": "code",
   "execution_count": null,
   "metadata": {},
   "outputs": [],
   "source": [
    "#Clicar no botão de escrever\n",
    "pyautogui.click(x=117, y=228)"
   ]
  },
  {
   "cell_type": "code",
   "execution_count": null,
   "metadata": {},
   "outputs": [],
   "source": [
    "#Colocar o email do destinatário (tab)\n",
    "pyperclip.copy(\"catarina.pepper@gmail.com\")\n",
    "pyautogui.hotkey(\"ctrl\", \"v\")\n",
    "pyautogui.hotkey(\"tab\")"
   ]
  },
  {
   "cell_type": "code",
   "execution_count": null,
   "metadata": {},
   "outputs": [],
   "source": [
    "#Colocar o assunto (tab)\n",
    "pyperclip.copy(\"Análises diárias\")\n",
    "pyautogui.hotkey(\"ctrl\", \"v\")\n",
    "pyautogui.hotkey(\"tab\")"
   ]
  },
  {
   "cell_type": "code",
   "execution_count": null,
   "metadata": {},
   "outputs": [],
   "source": [
    "#Criando mensagem:\n",
    "mensagem = f\"\"\"\n",
    "Prezado Gestor,\n",
    "\n",
    "Seguem as análises diárias dos últimos 6 meses da ação {codigo}\n",
    "\n",
    "Cotação máxima: R${round(maxima, 2)}\n",
    "Cotação mínima: R${round(minima, 2)}\n",
    "Cotação atual: R${round(atual, 2)}\n",
    "\n",
    "Qualquer dúvida estou a disposição!\n",
    "\"\"\"\n",
    "pyperclip.copy(mensagem)\n",
    "pyautogui.hotkey(\"ctrl\", \"v\")"
   ]
  },
  {
   "cell_type": "code",
   "execution_count": null,
   "metadata": {},
   "outputs": [],
   "source": [
    "#Clicar no botão enviar\n",
    "pyautogui.click(x=1217, y=1005)"
   ]
  }
 ],
 "metadata": {
  "kernelspec": {
   "display_name": "Python 3",
   "language": "python",
   "name": "python3"
  },
  "language_info": {
   "codemirror_mode": {
    "name": "ipython",
    "version": 3
   },
   "file_extension": ".py",
   "mimetype": "text/x-python",
   "name": "python",
   "nbconvert_exporter": "python",
   "pygments_lexer": "ipython3",
   "version": "3.11.8"
  }
 },
 "nbformat": 4,
 "nbformat_minor": 2
}
